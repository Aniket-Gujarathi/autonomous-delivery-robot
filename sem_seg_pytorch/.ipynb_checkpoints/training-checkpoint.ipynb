{
 "cells": [
  {
   "cell_type": "code",
   "execution_count": 1,
   "metadata": {},
   "outputs": [],
   "source": [
    "%matplotlib inline\n",
    "import torch\n",
    "import torch.nn as nn\n",
    "import torch.nn.functional as F\n",
    "\n",
    "import os\n",
    "import matplotlib.pyplot as plt\n",
    "from tqdm import tqdm\n",
    "\n",
    "from helper import *\n",
    "from models.enet.model import *\n",
    "\n",
    "torch.cuda.set_device(0)"
   ]
  },
  {
   "cell_type": "code",
   "execution_count": 2,
   "metadata": {},
   "outputs": [],
   "source": [
    "mean = [0.28689554, 0.32513303, 0.28389177]\n",
    "std = [0.18696375, 0.19017339, 0.18720214]\n",
    "transform = transforms.Compose([\n",
    "                transforms.ToTensor(),\n",
    "                transforms.Normalize(mean = mean, std = std)\n",
    "            ])\n",
    "dataset = CityscapesDataset(transform = transform)\n",
    "dataloader = data.DataLoader(dataset, batch_size = 3, shuffle = True, drop_last = True)"
   ]
  },
  {
   "cell_type": "code",
   "execution_count": 3,
   "metadata": {},
   "outputs": [],
   "source": [
    "net = ENet(num_classes = 1)\n",
    "net = net.cuda()"
   ]
  },
  {
   "cell_type": "code",
   "execution_count": 4,
   "metadata": {},
   "outputs": [],
   "source": [
    "optimizer = torch.optim.Adam(net.parameters(), lr = 1e-4)\n",
    "criterion = nn.BCEWithLogitsLoss()\n",
    "\n",
    "def dice_loss(inp, target):\n",
    "    smooth = 1.\n",
    "\n",
    "    iflat = inp.view(-1)\n",
    "    tflat = target.view(-1)\n",
    "    intersection = (iflat * tflat).sum()\n",
    "    \n",
    "    return -((2. * intersection + smooth) / (iflat.sum() + tflat.sum() + smooth))"
   ]
  },
  {
   "cell_type": "code",
   "execution_count": 5,
   "metadata": {},
   "outputs": [],
   "source": [
    "def train(model, train_loader, epoch, loss_function, optimiser, savename):\n",
    "    model.train()\n",
    "    loop = tqdm(train_loader)\n",
    "    loss_min = 100\n",
    "    for data, target in loop:\n",
    "        data, target = data.float().cuda(), target.float().cuda()\n",
    "        \n",
    "        optimiser.zero_grad()\n",
    "        prediction = model(data)\n",
    "        prediction = prediction.squeeze(1)\n",
    "        \n",
    "        loss = loss_function(prediction, target) + dice_loss(F.softmax(prediction, dim = 1), target)\n",
    "        losses.append(loss.item())\n",
    "        \n",
    "        loss.backward()\n",
    "        optimiser.step()\n",
    "        \n",
    "        loop.set_description('Epoch {}/{}'.format(epoch + 1, num_epochs))\n",
    "        loop.set_postfix(loss = loss.item())\n",
    "        \n",
    "        if loss.item() < loss_min :\n",
    "            loss_min = loss.item()\n",
    "            torch.save(net.state_dict(), savename)"
   ]
  },
  {
   "cell_type": "code",
   "execution_count": null,
   "metadata": {},
   "outputs": [
    {
     "name": "stderr",
     "output_type": "stream",
     "text": [
      "Epoch 1/2: 100%|██████████| 7824/7824 [1:32:12<00:00,  1.41it/s, loss=0.139]\n",
      "Epoch 2/2:  64%|██████▍   | 4989/7824 [58:10<34:17,  1.38it/s, loss=0.0558]"
     ]
    }
   ],
   "source": [
    "num_epochs = 2\n",
    "losses = []\n",
    "for epoch in range(num_epochs) :\n",
    "    train(model = net, train_loader = dataloader, loss_function = criterion, optimiser = optimizer, epoch = epoch, savename = 'road_bce_dice.pt')"
   ]
  },
  {
   "cell_type": "code",
   "execution_count": 10,
   "metadata": {},
   "outputs": [],
   "source": [
    "torch.save(net.state_dict(), 'testing.pt')"
   ]
  },
  {
   "cell_type": "code",
   "execution_count": 3,
   "metadata": {},
   "outputs": [
    {
     "data": {
      "text/plain": [
       "<All keys matched successfully>"
      ]
     },
     "execution_count": 3,
     "metadata": {},
     "output_type": "execute_result"
    }
   ],
   "source": [
    "net = ENet(num_classes = 1)\n",
    "net.load_state_dict(torch.load('road_bce_dice.pt', map_location = 'cpu'))"
   ]
  },
  {
   "cell_type": "code",
   "execution_count": 4,
   "metadata": {},
   "outputs": [],
   "source": [
    "net.cuda()\n",
    "net.eval()\n",
    "img, mask = next(iter(dataloader))\n",
    "img = img.float().cuda()\n",
    "out = net(img)"
   ]
  },
  {
   "cell_type": "code",
   "execution_count": 15,
   "metadata": {},
   "outputs": [
    {
     "data": {
      "image/png": "[encoded data removed]",
      "text/plain": [
       "<Figure size 432x288 with 3 Axes>"
      ]
     },
     "metadata": {
      "needs_background": "light"
     },
     "output_type": "display_data"
    }
   ],
   "source": [
    "unorm = UnNormalize(mean = mean, std = std)\n",
    "fig = plt.figure()\n",
    "plt.subplot(3, 1, 1)\n",
    "img2 = unorm(img)\n",
    "img2 = img2.transpose(1, 2).transpose(2, 3).detach().cpu().numpy()\n",
    "plt.imshow(img2[2])\n",
    "plt.subplot(3, 1, 2)\n",
    "plt.imshow(mask[2])\n",
    "out2 = torch.sigmoid(out)\n",
    "out2 = out2.squeeze(1).detach().cpu()\n",
    "# print(out2.shape)\n",
    "t = torch.Tensor([0.5])\n",
    "out2 = (out2 > t)\n",
    "out2 = out2.float().numpy()\n",
    "plt.subplot(3, 1, 3)\n",
    "plt.imshow(out2[2])\n",
    "plt.show()"
   ]
  },
  {
   "cell_type": "code",
   "execution_count": null,
   "metadata": {},
   "outputs": [],
   "source": []
  }
 ],
 "metadata": {
  "kernelspec": {
   "display_name": "Python2 (auto)",
   "language": "python",
   "name": "auto"
  },
  "language_info": {
   "codemirror_mode": {
    "name": "ipython",
    "version": 2
   },
   "file_extension": ".py",
   "mimetype": "text/x-python",
   "name": "python",
   "nbconvert_exporter": "python",
   "pygments_lexer": "ipython2",
   "version": "2.7.17"
  }
 },
 "nbformat": 4,
 "nbformat_minor": 2
}
